{
 "cells": [
  {
   "cell_type": "markdown",
   "metadata": {},
   "source": [
    "# Detecció de foc amb infraroigs\n",
    "\n",
    "El mòdul KY-026 és un sensor d'infraroigs que es pot fer servir per a fer detecció de foc, ja que detecta flames de longituds d'ona que van de 760 nm a 1100 nm. \n",
    "\n",
    "<img src=\"img/ir_flame.jpeg\" style=\"center\" width=\"50%\">\n",
    "\n",
    "\n",
    "\n",
    "<img src=\"img/ir_flame_pins.png\" style=\"center\" width=\"50%\">\n",
    "\n",
    "\n",
    "Girant el cargol es pot ajustar la sensibilitat del sensor.\n",
    "\n",
    "<img src=\"img/sens-poti.jpg\" style=\"center\" width=\"30%\">"
   ]
  },
  {
   "cell_type": "code",
   "execution_count": null,
   "metadata": {
    "collapsed": true
   },
   "outputs": [],
   "source": [
    "import RPi.GPIO as GPIO\n",
    "import time\n",
    "\n",
    "FlamePin = 11\n",
    "\n",
    "def init():\n",
    "    GPIO.setmode(GPIO.BOARD)\n",
    "    GPIO.setup(FlamePin, GPIO.IN, pull_up_down=GPIO.PUD_UP)\n",
    "\n",
    "def myISR(ev=None):\n",
    "    print \"Flame is detected!\"\n",
    "\n",
    "def loop():\n",
    "    GPIO.add_event_detect(FlamePin, GPIO.FALLING, callback=myISR)\n",
    "    while True:\n",
    "        pass\n",
    "\n",
    "if __name__ == '__main__':\n",
    "    init()\n",
    "    try:\n",
    "        loop()\n",
    "    except KeyboardInterrupt: \n",
    "        print 'The end!'"
   ]
  }
 ],
 "metadata": {
  "kernelspec": {
   "display_name": "Python 3",
   "language": "python",
   "name": "python3"
  },
  "language_info": {
   "codemirror_mode": {
    "name": "ipython",
    "version": 3
   },
   "file_extension": ".py",
   "mimetype": "text/x-python",
   "name": "python",
   "nbconvert_exporter": "python",
   "pygments_lexer": "ipython3",
   "version": "3.5.2"
  }
 },
 "nbformat": 4,
 "nbformat_minor": 2
}
