{
 "cells": [
  {
   "cell_type": "markdown",
   "metadata": {},
   "source": [
    "# Controlar les sortides GPIO a través d'internet\n",
    "\n",
    "Veurem ara com controlar actuadors connectats als pins GPIO de la Raspberry Pi a través d'una interfície web. Per a fer això hem de tenir connectada la Raspberry Pi a internet a través de la xarxa wi-fi o ethernet (cable).\n",
    "\n",
    "Crearem un servidro web que ens permeti controlar els pins GPIO a través de la xarxa. Per a fer-lo utilitzarem el mòdul `bottle` que ens permet crear la interfície web HTML.\n",
    "\n",
    "Necessitarem el següent material:\n",
    "\n",
    "* Protoboard i cables.\n",
    "* Dos resistències de 220$\\mathrm{k\\Omega}$.\n",
    "* Doss diodes LED.\n",
    "* Un polsador\n",
    "\n",
    "El muntatge el podem veure a la figura següent:\n",
    "\n",
    "<img src=\"img/control_gpio_bb.png\" width=\"70%\">\n"
   ]
  },
  {
   "cell_type": "markdown",
   "metadata": {},
   "source": [
    "> **Nota:** Si necessiteu instal·lar la biblioteca `bottle` heu de posar al terminal d'ordres:\n",
    "\n",
    "> `sudo apt install python-bottle`\n",
    "\n"
   ]
  },
  {
   "cell_type": "markdown",
   "metadata": {},
   "source": [
    "El codi per fer funcionar el servidor web amb el qual controlar els LED i llegir l'estat del polsador és el següent:\n"
   ]
  },
  {
   "cell_type": "code",
   "execution_count": null,
   "metadata": {
    "collapsed": true
   },
   "outputs": [],
   "source": [
    "from bottle import route, run\n",
    "import RPi.GPIO as GPIO\n",
    "\n",
    "GPIO.setmode(GPIO.BOARD)\n",
    "led_pins = [12, 16]\n",
    "led_states = [0, 0]\n",
    "switch_pin = 18\n",
    "\n",
    "GPIO.setup(led_pins[0], GPIO.OUT)\n",
    "GPIO.setup(led_pins[1], GPIO.OUT)\n",
    "GPIO.setup(switch_pin, GPIO.IN, pull_up_down=GPIO.PUD_UP)\n",
    "\n",
    "def switch_status():\n",
    "    state = GPIO.input(switch_pin)\n",
    "    if state:\n",
    "        return \"Sense polsar\"\n",
    "    else:\n",
    "        return \"Polsat\"\n",
    "\n",
    "def html_for_led(led):\n",
    "    l = str(led)\n",
    "    result = \"input type='button' onClick='changed'()\" + l + \")' value='LED \" + l + \"'/>\"\n",
    "    return result\n",
    "\n",
    "def update_leds():\n",
    "    for i, value in enumerate(led_states)\n",
    "        GPIO.output(led_pins[i], value)\n",
    "    \n",
    "@route('/')\n",
    "@route('/<led>')\n",
    "def index(led):\n",
    "    if led >= '0' and led <='1':\n",
    "        led_num = int(led)\n",
    "        led_states[led_num] = not led_states[led_num]\n",
    "        update_leds()\n",
    "    response = \"<script>\"\n",
    "    response += \"function changed(led)\"\n",
    "    response += \"{\"\n",
    "    response += \"    window.location.href='/' + led\"\n",
    "    response += \"}\"\n",
    "    response += \"</script>\"\n",
    "    \n",
    "    response += '<h1>GPIO Control</h1>'\n",
    "    response += '<h2>Button=' + switch_status() + '</h2>'\n",
    "    response += '<h2>LEDs</h2>'\n",
    "    response += html_for_led(0)\n",
    "    response += html_for_led(1)\n",
    "    return response\n",
    "\n",
    "try:\n",
    "    run(host='0.0.0.0', port=8080)\n",
    "finally:\n",
    "    print('\\nCleaning up')\n",
    "    GPIO.cleanup()\n",
    "    \n",
    "    "
   ]
  },
  {
   "cell_type": "markdown",
   "metadata": {},
   "source": [
    "Per a executar el programa s'ha de fer com a superusuari:\n",
    "\n",
    "`sudo python3 control_web.py`\n",
    "\n"
   ]
  }
 ],
 "metadata": {
  "kernelspec": {
   "display_name": "Python 3",
   "language": "python",
   "name": "python3"
  },
  "language_info": {
   "codemirror_mode": {
    "name": "ipython",
    "version": 3
   },
   "file_extension": ".py",
   "mimetype": "text/x-python",
   "name": "python",
   "nbconvert_exporter": "python",
   "pygments_lexer": "ipython3",
   "version": "3.5.2"
  }
 },
 "nbformat": 4,
 "nbformat_minor": 2
}
