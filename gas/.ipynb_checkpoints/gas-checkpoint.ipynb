{
 "cells": [
  {
   "cell_type": "markdown",
   "metadata": {},
   "source": [
    "# Detecció de gas\n",
    "\n",
    "El sensor que farem servir serà el model MQ-2 que no només és un sensor de fum sinó també de gasos inflamables, com el metà, propà, GLP, alcohol i hidrogen. La manera que té aquest sensor de mesurar el nivell de gas és a través del seu voltatge de sortida, quant més fum hi ha més alt és el voltatge de sortida i, a l'inrevés, si el nivell de fum és baix el voltatge de sortida serà baix.\n",
    "El sensor MQ-2 porta incorporat un potenciòmetre que permet ajustar la sensibilitat al fum, per tant, serveix com una manera de calibrar quin serà el valor de voltatge que tindrà la sortida en relació a la quantitat de fum al que està exposat.\n",
    "\n",
    "En el nostre projecte connectarem el MQ-2 a la Raspberry Pi de manera que podrem llegir la quantitat de tensió de sortida del sensor i que ens pugui dir si el valor de fum detectat està per sobre de determinat valor llindar. D'aquesta manera sabrem que el nostre sensor, efectivament, ha detectat fum.\n",
    "\n",
    "<img src=\"img/MQ-2.png\" width=\"40%\">\n",
    "\n",
    "## Materials\n",
    "\n",
    "* Sensor de fum i gasos MQ-2\n",
    "\n",
    "* Placa Raspberry Pi\n",
    "\n",
    "* Capacitor de $300\\,\\mathrm{nF}$ \n",
    "\n",
    "* 2 resistències de $1\\mathrm{k\\Omega}$\n",
    "\n",
    "* Placa de prototipatge ràpid (protoboard)\n",
    "\n",
    "## El muntatge\n",
    "\n"
   ]
  }
 ],
 "metadata": {
  "kernelspec": {
   "display_name": "Python 3",
   "language": "python",
   "name": "python3"
  },
  "language_info": {
   "codemirror_mode": {
    "name": "ipython",
    "version": 3
   },
   "file_extension": ".py",
   "mimetype": "text/x-python",
   "name": "python",
   "nbconvert_exporter": "python",
   "pygments_lexer": "ipython3",
   "version": "3.5.2"
  }
 },
 "nbformat": 4,
 "nbformat_minor": 2
}
