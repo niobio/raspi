{
 "cells": [
  {
   "cell_type": "markdown",
   "metadata": {},
   "source": [
    "# Controlant la brillantor d'un LED\n",
    "\n",
    "Per a controlar la brillantor d'un LED, la manera més comú de fer-lo es variant el valor del voltatge amb el que l'alimentem. El problema que tenim amb la Raspberry Pi és que només té sortides digitals, això vol dir que només pot proporcionar dos valors de voltatge (0 i 3,3V) que corresponen als estats `LOW` i `HIGH`. La solució a aquest problema consisteix en simular sortides analògiques utilitzant les sortides digitals amb un mètode anomenat **modulació d'amplada de pols (PWM)**.\n",
    "\n",
    "## El mètode PWM (Pulse-Width Modulation)\n",
    "\n",
    "El PWM és una tècnica molt enginyosa on, mitjançant el canvi de la longitud de polses elèctrics mentre es manté la quantitat de polses per segon (la freqüència en Hz) constant. A la figura de sota es pot veure com funciona el PWM.\n",
    "\n",
    "<img src=\"img/pwm.png\" width=\"80%\">\n",
    "\n",
    "En la primera gràfica es veu que la sortida digital està en estat `HIGH` només el 5% del temps, en el segon cas el 50% i en el tercer el 90%, això fa que l'efecte que tenim sobre el LED és un canvi de brillantor. El mateix mètode es pot fer servir per canviar la velocitat de gir d'un motor, per exemple. \n",
    "\n",
    "\n",
    "El codi que podem fer servir per controlar un LED connectat al pin 12 de la Raspberry Pi es:"
   ]
  },
  {
   "cell_type": "code",
   "execution_count": null,
   "metadata": {
    "collapsed": true
   },
   "outputs": [],
   "source": [
    "import RPi.GPIO as GPIO\n",
    "\n",
    "led_pin = 12\n",
    "GPIO.setmode(GPIO.BOARD)\n",
    "GPIO.setup(led_pin, GPIO.OUT)\n",
    "\n",
    "pwd_led = GPIO.PWM(led_pin, 500)\n",
    "pwd_led.start(100)\n",
    "\n",
    "while True:\n",
    "    duty = int(input(\"Introdueix la brillantor (0 a 100): \"))\n",
    "    pwm_led.ChangeDutyCycle(duty)\n",
    "    "
   ]
  },
  {
   "cell_type": "markdown",
   "metadata": {},
   "source": [
    "En el codi anterior la funció `GPIO.PWM` aplica la tècnica al pin `led_pin` i amb una freqüència de 500 Hz (el període és de 1/500 s = 2 ms) i es crea l'objecte pwd_led amb aquesta configuració. Posteriorment s'arrenca el LED amb un valor inicial del cicle de treball (duty cycle) del 100%.\n",
    "\n",
    "Posteriorment entrem a un bucle infinit on podem canviar el valor del cicle de treball (funció `ChangeDutyCycle`) i veure com canvia la brillantor del LED."
   ]
  }
 ],
 "metadata": {
  "kernelspec": {
   "display_name": "Python 3",
   "language": "python",
   "name": "python3"
  },
  "language_info": {
   "codemirror_mode": {
    "name": "ipython",
    "version": 3
   },
   "file_extension": ".py",
   "mimetype": "text/x-python",
   "name": "python",
   "nbconvert_exporter": "python",
   "pygments_lexer": "ipython3",
   "version": "3.5.2"
  }
 },
 "nbformat": 4,
 "nbformat_minor": 2
}
