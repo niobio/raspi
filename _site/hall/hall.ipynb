{
 "cells": [
  {
   "cell_type": "markdown",
   "metadata": {},
   "source": [
    "# Sensor d'efecte Hall\n",
    "\n",
    "Els sensors d'efecte Hall poden detectar la presència de camps magnètics, per tant es poden fer servir juntament amb un imant per a detectar moviments o rotacions.\n",
    "\n",
    "En la figura de sota es pot veure el mòdul d'efecte Hall que farem servir. Es pot apreciar a què correspon cada pota del sensor. Habitualment la pota corresponent a la senyal té una S gravada, la pota corresponent a GND té un signe - i, a vegades la pota d'alimentació (Vcc) té un signe +.\n",
    "\n",
    "<img src=\"img/KY035.JPG\" width=\"50%\">\n",
    "\n",
    "\n",
    "En aquest cas utilitzarem un imant per a provar el sensor. Una vista de com fer el connexionat es pot veure a la figura inferior.\n",
    "\n",
    "<img src=\"img/hall_connect_bb.png\" width=\"80%\">\n",
    "\n",
    "En el circuit tenim el sensor Hall connectat al pin 16 i un LED al pin 12 de la Raspberry. Provarem el sensor Hall fent un programa que, quan detecti un camp magnètic (quan apropem un imant), encengui el LED.\n",
    "\n",
    "A sota podem veure el codi Python corresponent."
   ]
  },
  {
   "cell_type": "code",
   "execution_count": null,
   "metadata": {
    "collapsed": true
   },
   "outputs": [],
   "source": [
    "import RPi.GPIO as GPIO\n",
    "\n",
    "#Hall sensor is connected to pin 16 (BOARD-Layout!)\n",
    "HALL = 16 \n",
    "\n",
    "#LED is connected to pin 12 (BOARD-Layout!)\n",
    "LED  = 12\n",
    "\n",
    "#Set pin-layout to BOARD\n",
    "GPIO.setmode(GPIO.BOARD)\n",
    "\n",
    "#Avoid error messages if GPIO was not shut down correctly before\n",
    "GPIO.setwarnings(False) \n",
    "\n",
    "#Set HALL-pin to input, use internal pull-up-resistor\n",
    "GPIO.setup(HALL,GPIO.IN, pull_up_down=GPIO.PUD_UP) \n",
    "\n",
    "#Set LED-pin to output. A resistor should be used here!\n",
    "GPIO.setup(LED, GPIO.OUT)\n",
    "\n",
    "#Turn LED off\n",
    "GPIO.output(LED, GPIO.LOW)\n",
    "\n",
    "#This function will be called if a change is detected\n",
    "def change_detected(channel):\n",
    "    if GPIO.input(HALL) == GPIO.LOW:\n",
    "        print('Magnetic material detected: LED on')\n",
    "        GPIO.output(LED, GPIO.HIGH) #LED on\n",
    "    else:\n",
    "        print('No magnetic material: LED off')\n",
    "        GPIO.output(LED, GPIO.LOW) # LED off\n",
    "\n",
    "# Register event-listener on falling and raising\n",
    "# edge on HALL-sensor input. Call \"change_detected\" as\n",
    "# callback\n",
    "GPIO.add_event_detect(HALL, GPIO.BOTH, change_detected, bouncetime=25)\n",
    "\n",
    "# The main-loop does nothing. All is done by the event-listener\n",
    "try:\n",
    "    while True:\n",
    "        pass\n",
    "\n",
    "# Quit on Ctrl-c\n",
    "except KeyboardInterrupt:\n",
    "    print(\"Ctrl-C - quit\")\n",
    "\n",
    "# Cleanup GPIO\n",
    "finally:\n",
    "    GPIO.cleanup() "
   ]
  },
  {
   "cell_type": "markdown",
   "metadata": {},
   "source": [
    "## Discusió:\n",
    "Podem apreciar que el bucle principal no fa res, tota la feina la fa la línia de codi que es dedica a detectar esdeveniments. En aquest cas, si canvia l'estat del pin `HALL` es llança la funció `change_detected` que, en funció del canvi detectat fa que el LED s'encengui o s'apagui. El paràmetre `bouncetime` correspon a un número donat en mil·lisegons que és el temps que s'esperarà abans de fer una nova mesura. Això es fa per a evitar els canvis ràpids del valor del voltatge degut a transitoris interns del dispositiu de mesura coneguts com a \"rebots\". Si observem un comportament una mica erratic del sensor podem probar d'augmentar aquest valor."
   ]
  }
 ],
 "metadata": {
  "kernelspec": {
   "display_name": "Python 3",
   "language": "python",
   "name": "python3"
  },
  "language_info": {
   "codemirror_mode": {
    "name": "ipython",
    "version": 3
   },
   "file_extension": ".py",
   "mimetype": "text/x-python",
   "name": "python",
   "nbconvert_exporter": "python",
   "pygments_lexer": "ipython3",
   "version": "3.5.2"
  }
 },
 "nbformat": 4,
 "nbformat_minor": 2
}
