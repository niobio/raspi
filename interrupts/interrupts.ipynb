{
 "cells": [
  {
   "cell_type": "markdown",
   "metadata": {},
   "source": [
    "# Programar amb interrupcions\n",
    "\n",
    "Hi ha varies maneres de llegir el valor de les entrades als pins GPIO per part del nostre programa. La primera i més senzilla de totes és la coneguda com a mètode de **sondeig** (polling). Aquest mètode consisteix en llegir, en un determinat instant, l'estat del pin. El mètode de sondeig es fa servir dintre de bucles i poden demanar molta càrrega al processador.\n",
    "\n",
    "Una altra manera de llegir les entrades és a través de les anomenades **interrupcions** (*interrupts* o *edge detection* en anglès). Les interrupcions consisteixen en detectar un canvi d'estat de HIGH a LOW (*falling edge*) o de LOW a HIGH (*rising edge*). Aquest mètode és més eficient que el de sondeig ja què no és tan intensiu per al processador.\n",
    "\n",
    "A la figura de sota tenim un polsador connectat al pin 12 de la Raspberry Pi. Si volem detectar si el polsador ha estat premut sense haver que estar constantment fent crides per a observar l'estat del pin (sondeig), el que podem fer es utilitzar la funció `add_event_detect` de la llibreria `RPi.GPIO`.\n",
    "\n",
    "\n",
    "<img src=\"img/polsador_bb.png\" width=70%>\n",
    "\n",
    "\n",
    "Acompanyarem aquesta connexió amb el codi Python següent, que podem anomenar `interrupts.py`. Aquest codi el que fa és comptar els segons que van passant i mostra a la pantalla el temps en segons. Però, quan el polsador és premut mostra el missatge \"polsador premut\":"
   ]
  },
  {
   "cell_type": "code",
   "execution_count": null,
   "metadata": {
    "collapsed": true
   },
   "outputs": [],
   "source": [
    "import RPi.GPIO as GPIO\n",
    "import time\n",
    "\n",
    "GPIO.setmode(GPIO.BOARD)\n",
    "\n",
    "def my_callback(channel):\n",
    "    print(\"polsador premut\")\n",
    "    \n",
    "GPIO.setup(12, GPIO.IN, pull_up_down=GPIO.PUD_UP)\n",
    "GPIO.add_event_detect(12, GPIO.FALLLING, calling=my_callback)\n",
    "\n",
    "i = 0\n",
    "while True:\n",
    "    i = i + 1\n",
    "    print(i)\n",
    "    time.sleep(1)"
   ]
  },
  {
   "cell_type": "markdown",
   "metadata": {},
   "source": [
    "Si executeu el codi amb privilegis de superusuari (`sudo`), alguna cosa semblant al que apareix a sota:"
   ]
  },
  {
   "cell_type": "raw",
   "metadata": {},
   "source": [
    "$ sudo python interrupts.py\n",
    "1\n",
    "2\n",
    "3\n",
    "polsador premut\n",
    "4\n",
    "polsador premut\n",
    "5\n",
    "polsador premut\n",
    "polsador premut\n",
    "6"
   ]
  },
  {
   "cell_type": "markdown",
   "metadata": {},
   "source": [
    "Hem vist que només quan es detecta un cambi en l'estat del polsador s'executa la funció `my_callback` que porta només un argument (`channel`). Aquest argument especifica la entrada que va disparar la interrupció, permetent utilitzar la mateixa funció per a altres interrupcions.\n",
    "\n",
    "La funció que s'executa quan es detecta la interrupció és:"
   ]
  },
  {
   "cell_type": "code",
   "execution_count": null,
   "metadata": {
    "collapsed": true
   },
   "outputs": [],
   "source": [
    "def my_callback(channel):\n",
    "    print(\"polsador premut\")"
   ]
  },
  {
   "cell_type": "markdown",
   "metadata": {},
   "source": [
    "La línia de codi que fa la crida a la funció és:"
   ]
  },
  {
   "cell_type": "code",
   "execution_count": null,
   "metadata": {
    "collapsed": true
   },
   "outputs": [],
   "source": [
    "GPIO.add_event_detect(12, GPIO.FALLLING, calling=my_callback)"
   ]
  },
  {
   "cell_type": "markdown",
   "metadata": {},
   "source": [
    "El primer paràmetre especifica el pin (12). El segon paràmetre pot ser `GPIO.FALLING`, `GPIO.RISING` o `GPIO.BOTH`. Si està en `FALLING`, la funció només serà cridada si el pin passa de `HIGH` a `LOW`. Aquest és el cas de l'exemple anterior. L'últim paràmetre correspon a la funció que ha de ser cridada quan es detecta aquesta interrupció.\n",
    "\n",
    "D'aquesta manera s'obté un us més eficiant del processador."
   ]
  }
 ],
 "metadata": {
  "kernelspec": {
   "display_name": "Python 3",
   "language": "python",
   "name": "python3"
  },
  "language_info": {
   "codemirror_mode": {
    "name": "ipython",
    "version": 3
   },
   "file_extension": ".py",
   "mimetype": "text/x-python",
   "name": "python",
   "nbconvert_exporter": "python",
   "pygments_lexer": "ipython3",
   "version": "3.5.2"
  }
 },
 "nbformat": 4,
 "nbformat_minor": 2
}
