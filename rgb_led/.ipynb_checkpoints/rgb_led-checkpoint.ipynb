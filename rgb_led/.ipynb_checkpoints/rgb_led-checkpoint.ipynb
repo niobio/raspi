{
 "cells": [
  {
   "cell_type": "markdown",
   "metadata": {},
   "source": [
    "# Controlar un LED RGB\n",
    "\n",
    "Els LED RGB són LED amb els quals podem controlar el color"
   ]
  },
  {
   "cell_type": "code",
   "execution_count": null,
   "metadata": {
    "collapsed": true
   },
   "outputs": [],
   "source": [
    "import RPi.GPIO as GPIO\n",
    "import time\n",
    "\n",
    "colors = [0xFF0000, 0x00FF00, 0x0000FF, 0xFFFF00, 0xFF00FF, 0x00FFFF]\n",
    "pins = {'pin_R':10, 'pin_G':11, 'pin_B':12}  # pins is a dictionary\n",
    "\n",
    "GPIO.setmode(GPIO.BOARD)       # Numbers GPIOs by physical location\n",
    "for i in pins:\n",
    "    GPIO.setup(pins[i], GPIO.OUT)   # Set pins' mode is output\n",
    "    GPIO.output(pins[i], GPIO.HIGH) # Set pins to high(+3.3V) to off led\n",
    "\n",
    "p_R = GPIO.PWM(pins['pin_R'], 2000)  # set Frequece to 2KHz\n",
    "p_G = GPIO.PWM(pins['pin_G'], 2000)\n",
    "p_B = GPIO.PWM(pins['pin_B'], 5000)\n",
    "\n",
    "p_R.start(0)      # Initial duty Cycle = 0(leds off)\n",
    "p_G.start(0)\n",
    "p_B.start(0)\n",
    "\n",
    "def map(x, in_min, in_max, out_min, out_max):\n",
    "    return (x - in_min) * (out_max - out_min) / (in_max - in_min) + out_min\n",
    "\n",
    "def setColor(col):   # For example : col = 0x112233\n",
    "    R_val = (col & 0x110000) >> 16\n",
    "    G_val = (col & 0x001100) >> 8\n",
    "    B_val = (col & 0x000011) >> 0\n",
    "\n",
    "    R_val = map(R_val, 0, 255, 0, 100)\n",
    "    G_val = map(G_val, 0, 255, 0, 100)\n",
    "    B_val = map(B_val, 0, 255, 0, 100)\n",
    "\n",
    "    p_R.ChangeDutyCycle(R_val)     # Change duty cycle\n",
    "    p_G.ChangeDutyCycle(G_val)\n",
    "    p_B.ChangeDutyCycle(B_val)\n",
    "\n",
    "try:\n",
    "    while True:\n",
    "        for col in colors:\n",
    "            setColor(col)\n",
    "            time.sleep(0.5)\n",
    "except KeyboardInterrupt:\n",
    "    p_R.stop()\n",
    "    p_G.stop()\n",
    "    p_B.stop()\n",
    "    for i in pins:\n",
    "        GPIO.output(pins[i], GPIO.HIGH)    # Turn off all leds\n",
    "    GPIO.cleanup()"
   ]
  }
 ],
 "metadata": {
  "kernelspec": {
   "display_name": "Python 3",
   "language": "python",
   "name": "python3"
  },
  "language_info": {
   "codemirror_mode": {
    "name": "ipython",
    "version": 3
   },
   "file_extension": ".py",
   "mimetype": "text/x-python",
   "name": "python",
   "nbconvert_exporter": "python",
   "pygments_lexer": "ipython3",
   "version": "3.5.2"
  }
 },
 "nbformat": 4,
 "nbformat_minor": 2
}
