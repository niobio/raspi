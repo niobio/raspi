{
 "cells": [
  {
   "cell_type": "markdown",
   "metadata": {},
   "source": [
    "# Servidor web senzill amb Python\n",
    "\n",
    "Una manera senzilla de publicar a internet l'estat de sensors i, fins i tot, controlar sensors i actuadors de manera remota és mitjançant un servidor web al poder connectar. Veurem ara com fer funcionar la nostra Raspberry Pi com un servidor web senzill per fer coses com aquestes. No necessitem instal·lar un servidor potent (tampoc en volem) per fer coses senzilles. Per això utilitzarem la biblioteca `bottle` que ens permetrà tenir un servidor web senzill a la nostra placa. \n",
    "\n",
    "Per a instal·lar `bottle` a la Raspberry utilitzarem l'ordre:\n",
    "\n",
    "`sudo apt install python-bottle`\n",
    "\n",
    "al terminal d'ordres. Per a que pugui descarregar el paquet hem de tenir connexió a internet.\n",
    "\n",
    "Un cop instal·lada la biblioteca podem provar-la fent córrer el següent script que el que fa es publicar a la web la data i hora actual:"
   ]
  },
  {
   "cell_type": "code",
   "execution_count": null,
   "metadata": {
    "collapsed": true
   },
   "outputs": [],
   "source": [
    "from bottle import route, run, template\n",
    "from datetime import datetime\n",
    "\n",
    "@route('/')\n",
    "def index(name='time'):\n",
    "    dt = datetime.now()\n",
    "    time = \"{:%Y-%m-%d %H:%M:%S}\".format(dt)\n",
    "    return template('<b>Pi thinks the date/time is: {{t}}</b>', t=time)\n",
    "\n",
    "run(host='0.0.0.0', port=8080)"
   ]
  },
  {
   "cell_type": "markdown",
   "metadata": {},
   "source": [
    "Després d'importar les biblioteques, l'ordre `@route` enllaça l'adreça d'ubicació `/` amb la funció que es troba a continuació. La funció el que fa és crear una cadena amb la data i hora actuals en format HTML i la retorna al servidor per a ser visualitzada. En aquest cas utilitza una plantilla (`template`) en el qual els valors són substituits.\n",
    "\n",
    "La línia final arrenca els procés de servir la pàgina al servidor. Si podem coma valor de `host` l'adreça `'0.0.0.0'` aquesta serà reemplaçada per l'adreça web de la Raspberry Pi. El port 8080 és el port on es podrà anar a buscar la pàgina i, de ser necessari aquest número es pot canviar."
   ]
  }
 ],
 "metadata": {
  "kernelspec": {
   "display_name": "Python 3",
   "language": "python",
   "name": "python3"
  },
  "language_info": {
   "codemirror_mode": {
    "name": "ipython",
    "version": 3
   },
   "file_extension": ".py",
   "mimetype": "text/x-python",
   "name": "python",
   "nbconvert_exporter": "python",
   "pygments_lexer": "ipython3",
   "version": "3.5.2"
  }
 },
 "nbformat": 4,
 "nbformat_minor": 2
}
