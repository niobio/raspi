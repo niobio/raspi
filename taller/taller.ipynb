{
 "cells": [
  {
   "cell_type": "markdown",
   "metadata": {},
   "source": [
    "# Taller projecte Domus\n",
    "\n",
    "## La placa de proves\n",
    "\n",
    "La placa de proves o de prototipatge ràpid (també coneguda com *breadboard* o *protoboard* en anglès) ens permet crear circuits electrònics de manera ràpida sense necessitat de soldar els elements del circuit.\n",
    "\n",
    "<img src=\"img/protoboard.jpg\" style=\"centered\" width=\"40%\">\n",
    "\n",
    "## La placa Raspberry Pi\n",
    "\n",
    "<img src=\"img/RPi_2b.png\" style=\"centered\" width=\"70%\">\n",
    "\n",
    "## Els pins GPIO\n",
    "\n",
    "<img src=\"img/gpio_board.jpeg\" style=\"centered\" width=\"50%\">\n",
    "\n",
    "\n",
    "## Encendre un LED\n",
    "\n",
    "<img src=\"img/led_blink_esquema_bb.png\" style=\"centered\" width=\"40%\">\n"
   ]
  },
  {
   "cell_type": "code",
   "execution_count": null,
   "metadata": {},
   "outputs": [],
   "source": [
    "from gpiozero import LED\n",
    "from time import sleep\n",
    "\n",
    "led = LED(24)\n",
    "\n",
    "while True:\n",
    "    led.on()\n",
    "    sleep(1)\n",
    "    led.off()\n",
    "    sleep(1)"
   ]
  },
  {
   "cell_type": "markdown",
   "metadata": {},
   "source": [
    "# Detecció de moviments amb infrarroigs\n",
    "\n",
    "\n",
    "El sensor que es veu a la imatge inferior és un HC-SR501, es tracta d'un sensor infrarroig passiu (PIR), i serveix per a detectar moviments. Resulta habitual trobarlos als lavabos públics per encendre la llum quan detecta la presencia de persones.\n",
    "\n",
    "<img src=\"img/PIR_1.jpeg\" style=\"centered\" width=\"40%\">\n",
    "\n",
    "<img src=\"img/PIR_2.jpg\" style=\"centered\" width=\"70%\">\n",
    "\n",
    "\n",
    "Si vols saber més de com funcionen els PIR pots consultar <a href=\"https://learn.adafruit.com/pir-passive-infrared-proximity-motion-sensor/how-pirs-work\" target=\"_blank\">aquesta pàgina</a>.\n",
    "\n",
    "A continuació tenim un exemple de codi que permet detectar el moviment:"
   ]
  },
  {
   "cell_type": "code",
   "execution_count": null,
   "metadata": {
    "collapsed": true
   },
   "outputs": [],
   "source": [
    "from gpiozero import MotionSensor, LED\n",
    "from time import sleep\n",
    "\n",
    "led = LED(24)\n",
    "pir = MotionSensor(22)\n",
    "\n",
    "while True:\n",
    "    pir.wait_for_motion()\n",
    "    print(\"Moviment detectat!\")\n",
    "    led.on()\n",
    "    sleep(2)\n",
    "    led.off()"
   ]
  }
 ],
 "metadata": {
  "kernelspec": {
   "display_name": "Python 3",
   "language": "python",
   "name": "python3"
  },
  "language_info": {
   "codemirror_mode": {
    "name": "ipython",
    "version": 3
   },
   "file_extension": ".py",
   "mimetype": "text/x-python",
   "name": "python",
   "nbconvert_exporter": "python",
   "pygments_lexer": "ipython3",
   "version": "3.5.2"
  }
 },
 "nbformat": 4,
 "nbformat_minor": 2
}
