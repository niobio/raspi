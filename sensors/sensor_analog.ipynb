{
 "cells": [
  {
   "cell_type": "markdown",
   "metadata": {},
   "source": [
    "# Sensors analògics I: el capacitor com conversor A/D\n",
    "\n",
    "Els sensors són dispositius que obtenen informació dels seus voltants i la poden transmetre a la Raspberry per a que la pugui procesar i faci alguna acció a partir d'aquesta informació.\n",
    "\n",
    "De sensors hi ha de dos tipus:\n",
    "\n",
    "* **Digitals**: poden prendre dos estats possibles (encès/apagat, on/off, etc.). Exemples típics són els interruptors o els polsadors que es poden fer servir com sensors tàctils.\n",
    "\n",
    "* **Analògics**: poden prendre més de dos valors. Són sensors analògics els sensors de temperatura, so, humitat, llum, etc. Generalment aquests sensors donen un voltatge o canvien el seu valor resistiu quan canvia la variable de l'entorn que mesuren, d'aquesta manera, amb un adequat calibratge, es pot mesurar aquesta variable. \n",
    "\n",
    "El problema que presenta la placa Raspberry Pi és que les seves entrades són digitals i no en té cap d'analògica, pel que hem de crear un conversor analògic-digital (A/D) per a poder mesurar una variable analògica a través d'una entrada digital.\n",
    "\n",
    "Existeixen xips que fan aquesta conversió, però la manera més senzilla de fer-la és utilitzant un capacitor (també anomenat condensador). Els capacitors són dispositius electrònics que funcionen com acumuladors de càrrega i que poden tenir capacitats d'emmagatzematge diferents. La clau del funcionament del capacitor com a conversor A/D radica en que el temps que tarda a carregar-se depèn de la intensitat de corrent que hi circula, per tant, si mesurem el temps que tarda a carregarse estarem mesurant la intesitat de corrent i així podem estimar els valor de la variable analògica.\n",
    "\n",
    "## Connectar un sensor resistiu a la Raspberry amb un capacitor\n",
    "\n",
    "Utilitzarem una resistència variable (potenciòmetre) com a sensor. El potenciòmetre és una resistència per a la qual podem variar el seu valor girant un eix, tenim exemples d'aquest tipus de dispositius en els controls de volum d'alguns aparells amplificadots de so.\n",
    "\n",
    "Per a fer la connexió necessitarem:\n",
    "\n",
    "* Un protoboard i cables.\n",
    "* Un potenciómetre de $10\\,\\mathrm{k\\Omega}$.\n",
    "* Dos resistències de $1\\,\\mathrm{k\\Omega}$.\n",
    "* Un capacitor de 330 nF.\n",
    "\n",
    "A la figura inferior podem observar el connexionat.\n",
    "\n",
    "<img src=\"img/potenc.png\" width=\"400px\">\n",
    "\n",
    "El circuit esquemàtic és el següent:\n",
    "\n",
    "<img src=\"img/potenc_2.png\" width=\"400px\">\n",
    "\n",
    "Les resistències Rc i Rd tenen la funció de protegir els pins de la Raspberry d'intensitats de corrents excesives en cas que la resistència del potenciòmetre Rt prengui el valor 0\n",
    "\n",
    "\n",
    "El codi per al funcionament del sensor és el següent:"
   ]
  },
  {
   "cell_type": "code",
   "execution_count": null,
   "metadata": {
    "collapsed": true
   },
   "outputs": [],
   "source": [
    "import RPi.GPIO as GPIO\n",
    "import time\n",
    "\n",
    "GPIO.setmode(GPIO.BOARD)\n",
    "\n",
    "# El pin a carrega el capacitor a través d'una resistència fixa d'1k \n",
    "# i el potenciómetre en sèrie.\n",
    "# El pin b descarrega el capacitor a través de la resistència d'1k\n",
    "\n",
    "pin_a = 12\n",
    "pin_b = 16\n",
    "\n",
    "# Funció per la descàrrega del capacitor, deixant-lo buit per a començar la càrrega\n",
    "def descarrega():\n",
    "    GPIO.setup(pin_a, GPIO.IN)\n",
    "    GPIO.setup(pin_b, GPIO.OUT)\n",
    "    GPIO.output(pin_b, False)\n",
    "    time.sleep(0.1)\n",
    "\n",
    "# Funció que retorna el temps de càrrega del capacitor en microsegons fins arribar\n",
    "# al nivell HIGH, el qual és major o igual a 1.65V.\n",
    "def temps_carrega():\n",
    "    GPIO.setup(pin_b, GPIO.IN)\n",
    "    GPIO.setup(pin_a, GPIO.OUT)\n",
    "    GPIO.output(pin_a, True)\n",
    "    t1 = time.time()\n",
    "    while not GPIO.input(pin_b):\n",
    "        pass\n",
    "    t2 = time.time()\n",
    "    return (t2 - t1) * 1000000\n",
    "\n",
    "# Funció que pren el temps de càrrega del capacitor com a lectura analògica\n",
    "# després de primer descarregar el capacitor\n",
    "def lectura_analog():\n",
    "    descarrega()\n",
    "    t = temps_carrega()\n",
    "    descarrega()\n",
    "    return t\n",
    "\n",
    "try:\n",
    "    while True:\n",
    "        print(lectura_analog())\n",
    "        time.sleep(0.5)\n",
    "finally:\n",
    "    GPIO.cleanup()"
   ]
  },
  {
   "cell_type": "markdown",
   "metadata": {},
   "source": [
    "El programa fa la lectura del temps de càrrega del capacitor cada mig segon i l'imprimeix a la pantalla del terminal. Amb un adequat calibratge es pot transformar el temps en valors resistius, ja que la resistència és proporcional al temps de càrrega. Si en comptes d'un potenciòmetre haguèssim fet servir una LDR (resistència variable amb la llum) el temps de càrrega hauria estat inversament proporcional a la intensitat de llum. "
   ]
  }
 ],
 "metadata": {
  "kernelspec": {
   "display_name": "Python 3",
   "language": "python",
   "name": "python3"
  },
  "language_info": {
   "codemirror_mode": {
    "name": "ipython",
    "version": 3
   },
   "file_extension": ".py",
   "mimetype": "text/x-python",
   "name": "python",
   "nbconvert_exporter": "python",
   "pygments_lexer": "ipython3",
   "version": "3.5.3"
  }
 },
 "nbformat": 4,
 "nbformat_minor": 2
}
