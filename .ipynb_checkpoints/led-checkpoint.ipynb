{
 "cells": [
  {
   "cell_type": "markdown",
   "metadata": {},
   "source": [
    "# Encendre un led amb Raspberry Pi\n",
    "\n",
    "En aquest exercici utilitzarem els pins GPIO de la RPi per a controlar un LED.\n",
    "Necessitarem el següent material:\n",
    "\n",
    "* 1 LED\n",
    "* 1 resistència de 470 ohm\n",
    "* 1 Protoboard\n",
    "* Cables\n",
    "* Placa Raspberry Pi, teclat, pantalla i ratolí.\n",
    "\n",
    "En la figura de sota es pot observar l'esquema del circuit. El LED  està connectat el pin 18 de la RPi (no confondre amb la numeració BCM que correspon al GPIO24). En sèrie amb el LED hi ha una resistència de 470 ohm. La raó d'aquesta resistència és protegir el LED. Per saber com es calcula el valor de la resistència de protecció feu clic aquí. El circuit es tanca amb la resistència connectada a terra (GND).\n",
    "\n",
    "<img src=\"led/img/led_blink_esquema.png\" width=400>"
   ]
  }
 ],
 "metadata": {
  "kernelspec": {
   "display_name": "Python 3",
   "language": "python",
   "name": "python3"
  },
  "language_info": {
   "codemirror_mode": {
    "name": "ipython",
    "version": 3
   },
   "file_extension": ".py",
   "mimetype": "text/x-python",
   "name": "python",
   "nbconvert_exporter": "python",
   "pygments_lexer": "ipython3",
   "version": "3.5.2"
  }
 },
 "nbformat": 4,
 "nbformat_minor": 2
}
