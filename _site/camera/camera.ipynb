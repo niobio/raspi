{
 "cells": [
  {
   "cell_type": "markdown",
   "metadata": {},
   "source": [
    "# Controlar la càmera amb Raspberry Pi\n",
    "\n",
    "\n",
    "Hi ha una càmera especialment dissenyada per acoplar-la a la Raspberry Pi, és la Raspicam. \n",
    "\n",
    "<img src=\"img/raspicam.jpg\" width=\"70%\" class=\"center\">\n",
    "\n",
    "## Connectar la càmera\n",
    "\n",
    "Per aconnectar la càmera hem de tirar cap amunt el lliscador de plàstic del sòcol indicat amb el rètol `CAMERA`. La cinta de cables ha de posar-se de manera que la part blava estigui mirant cap el port Ethernet com es veu a la figura de sota.\n",
    "\n",
    "<img src=\"img/connect.png\" width=\"70%\" class=\"center\">\n",
    "\n",
    "## Provant la càmera\n",
    "\n",
    "Per a provar la càmera podem prendre les primeres imatges executant la següent ordre des del terminal:\n",
    "\n",
    "`raspistill -o primerafoto.jpg`\n",
    "\n",
    "## Mirar la imatge\n",
    "\n",
    "Per veure la imatge podem posar:\n",
    "\n",
    "`gpicview primerafoto.jpg `\n",
    "\n",
    "Aquests programes tenen moltes més opcions, per veure-les consulteu la referència que podeu trobar al final d'aquesta pàgina.\n",
    "\n",
    "## Controlar la càmera amb Python\n",
    "\n",
    "Per a controlar la càmera amb Python és necessari fer servir el mòdul de Python `picamera`. Per a instal·lar el mòdul, des del terminal executem:\n",
    "\n",
    "`sudo apt-get install python3-picamera`\n",
    "\n",
    "Per a poder instal·lar aquest mòdul hem de tenir la Raspberry Pi connectada a internet.\n",
    "\n",
    "\n",
    "## Controlar la càmera amb un botó\n",
    "\n",
    "A sota podem veure el codi per a controlar la càmera amb un botó."
   ]
  },
  {
   "cell_type": "code",
   "execution_count": null,
   "metadata": {
    "collapsed": true
   },
   "outputs": [],
   "source": [
    "#importació de mòduls\n",
    "from datetime import datetime\n",
    "import RPi.GPIO as GPIO\n",
    "import picamera\n",
    "\n",
    "GPIO.setmode(GPIO.BOARD)\n",
    "\n",
    "pin_boto = 14\n",
    "\n",
    "GPIO.setup(pin_boto, GPIO.IN, pull_up_down=GPIO.PUD_DOWN)\n",
    "pc = picamera.PiCamera()\n",
    "\n",
    "running = True\n",
    "#pc.resolution = (1024, 768)\n",
    "#use this to set the resolution if you dislike the default values\n",
    "\n",
    "timestamp=datetime.now()\n",
    "\n",
    "def picture():\n",
    "    pc.capture('pic'+str(timestamp)+'.jpg') #taking the picture\n",
    "    \n",
    "GPIO.add_event_detect(pin_boto, GPIO.RAISING, callback=picture, bouncetime=500)    \n",
    "\n",
    "try:\n",
    "    print(\"Activa\")\n",
    "    while running:\n",
    "        pass\n",
    "\n",
    "#we detect Ctrl+C then quit the program\n",
    "except KeyboardInterrupt:\n",
    "    running = False\n",
    "    GPIO.cleanup()"
   ]
  },
  {
   "cell_type": "markdown",
   "metadata": {},
   "source": [
    "## Referència:\n",
    "\n",
    "Per a més informació sobre com controlar la càmera amb la Raspberry Pi veure:\n",
    "\n",
    "[https://www.raspberrypi.org/magpi-issues/Essentials_Camera_v1.pdf](https://www.raspberrypi.org/magpi-issues/Essentials_Camera_v1.pdf)"
   ]
  },
  {
   "cell_type": "code",
   "execution_count": null,
   "metadata": {
    "collapsed": true
   },
   "outputs": [],
   "source": []
  }
 ],
 "metadata": {
  "kernelspec": {
   "display_name": "Python 3",
   "language": "python",
   "name": "python3"
  },
  "language_info": {
   "codemirror_mode": {
    "name": "ipython",
    "version": 3
   },
   "file_extension": ".py",
   "mimetype": "text/x-python",
   "name": "python",
   "nbconvert_exporter": "python",
   "pygments_lexer": "ipython3",
   "version": "3.5.2"
  }
 },
 "nbformat": 4,
 "nbformat_minor": 2
}
