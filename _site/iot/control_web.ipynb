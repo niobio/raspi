{
 "cells": [
  {
   "cell_type": "markdown",
   "metadata": {},
   "source": [
    "# Controlar les sortides GPIO a través d'internet\n",
    "\n",
    "Veurem ara com controlar actuadors connectats als pins GPIO de la Raspberry Pi a través d'una interfície web. Per a fer això hem de tenir connectada la Raspberry Pi a internet a través de la xarxa wi-fi o ethernet (cable).\n",
    "\n",
    "Crearem un servidro web que ens permeti controlar els pins GPIO a través de la xarxa. Per a fer-lo utilitzarem el mòdul `bottle` que ens permet crear la interfície web HTML.\n",
    "\n",
    "Necessitarem el següent material:\n",
    "\n",
    "* Protoboard i cables.\n",
    "* Tres resistències d'1$k\\Omega$.\n",
    "* Tres leds"
   ]
  }
 ],
 "metadata": {
  "kernelspec": {
   "display_name": "Python 3",
   "language": "python",
   "name": "python3"
  },
  "language_info": {
   "codemirror_mode": {
    "name": "ipython",
    "version": 3
   },
   "file_extension": ".py",
   "mimetype": "text/x-python",
   "name": "python",
   "nbconvert_exporter": "python",
   "pygments_lexer": "ipython3",
   "version": "3.5.2"
  }
 },
 "nbformat": 4,
 "nbformat_minor": 2
}
