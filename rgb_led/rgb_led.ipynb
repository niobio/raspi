{
 "cells": [
  {
   "cell_type": "markdown",
   "metadata": {},
   "source": [
    "# Controlar un LED RGB\n",
    "\n",
    "Els LED RGB són LED amb els quals podem controlar el color. El LED té 4 potes anomenades R (red), G (green), B (blue) i GND (terra). Podem controlar el color del led fent combinacions entre els tres colors. Si combinem vermell i blau ens sortirà un magenta, si barregem verd i blau ens sortirà un cian i barrenjant vermell i verd ens sortirà groc.\n",
    "\n",
    "A la figura de sota podem veure un led RGB:\n",
    "\n",
    "<img src=\"img/rgb.jpeg\" width=\"40%\">\n",
    "\n",
    "A la figura següent s'observa un LED RGB SMD (*surface mount device*):\n",
    "\n",
    "<img src=\"img/rgb_smd.jpeg\" width=\"40%\">\n",
    "\n",
    "\n",
    "Per a controlar la manera de barrejar els colors podem fer servir la tècnica PWM (veure controlar la [brillantor d'un LED](https://niobio.github.io/raspi/led/brillantor_led.html)).\n",
    "\n",
    "Amb el codi següent podem cambiar el color i la intensitat de la llum d'un LED introduint la component de cada color amb un valor entre 0 i 100."
   ]
  },
  {
   "cell_type": "code",
   "execution_count": null,
   "metadata": {
    "collapsed": true
   },
   "outputs": [],
   "source": [
    "import RPi.GPIO as GPIO\n",
    "\n",
    "pins = {'pin_R':10, 'pin_G':11, 'pin_B':12}  # pins is a dict\n",
    "\n",
    "GPIO.setmode(GPIO.BOARD)       # Numbers GPIOs by physical location\n",
    "for i in pins:\n",
    "    GPIO.setup(pins[i], GPIO.OUT)   # Set pins' mode is output\n",
    "    GPIO.output(pins[i], GPIO.HIGH) # Set pins to high(+3.3V) to off led\n",
    "\n",
    "p_R = GPIO.PWM(pins['pin_R'], 500)  # set Frequece to 500Hz\n",
    "p_G = GPIO.PWM(pins['pin_G'], 500)\n",
    "p_B = GPIO.PWM(pins['pin_B'], 500)\n",
    "\n",
    "p_R.start(0)      # Initial duty Cycle = 0(leds off)\n",
    "p_G.start(0)\n",
    "p_B.start(0)\n",
    "\n",
    "try:\n",
    "    while True:\n",
    "        duty_R = float(input(\"Enter red component (0 to 100): \"))\n",
    "        duty_G = float(input(\"Enter green component (0 to 100): \"))\n",
    "        duty_B = float(input(\"Enter blue component (0 to 100): \"))\n",
    "        p_R.ChangeDutyCycle(duty_R)\n",
    "        p_G.ChangeDutyCycle(duty_G)\n",
    "        p_B.ChangeDutyCycle(duty_B)\n",
    "\n",
    "except KeyboardInterrupt:\n",
    "    print(\"Ctrl + C, quit\")\n",
    "    p_R.stop()\n",
    "    p_G.stop()\n",
    "    p_B.stop()\n",
    "finally:\n",
    "    GPIO.cleanup()"
   ]
  }
 ],
 "metadata": {
  "kernelspec": {
   "display_name": "Python 3",
   "language": "python",
   "name": "python3"
  },
  "language_info": {
   "codemirror_mode": {
    "name": "ipython",
    "version": 3
   },
   "file_extension": ".py",
   "mimetype": "text/x-python",
   "name": "python",
   "nbconvert_exporter": "python",
   "pygments_lexer": "ipython3",
   "version": "3.5.2"
  }
 },
 "nbformat": 4,
 "nbformat_minor": 2
}
