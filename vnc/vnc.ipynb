{
 "cells": [
  {
   "cell_type": "markdown",
   "metadata": {},
   "source": [
    "# Connexió remota a la Raspberry Pi\n",
    "\n",
    "A vegades necessitem connectar a una Raspberry Pi que es troba lluny de la nostra localització o també pot passar que necessitem periférics com una pantalla, un teclat i un ratolí que no tenim per fer funcionar la Raspberry. En aquest últim cas, si tenim un ordinador portàtil i un cable de xarxa podrem utilitzar la connexió de xarxa per fer una \"connexió remota\" (encara que tinguem l'un aparell al costat de l'altre) per a utilitzar la pantalla i teclat del portàtil com si fossin de la Raspberry. Per a fer això es fa servir un software de connexió remota con el RealVNC. \n",
    "\n",
    "Aquest software té dues parts, una, la part servidor s'instal·la a la Raspberry"
   ]
  }
 ],
 "metadata": {
  "kernelspec": {
   "display_name": "Python 3",
   "language": "python",
   "name": "python3"
  },
  "language_info": {
   "codemirror_mode": {
    "name": "ipython",
    "version": 3
   },
   "file_extension": ".py",
   "mimetype": "text/x-python",
   "name": "python",
   "nbconvert_exporter": "python",
   "pygments_lexer": "ipython3",
   "version": "3.5.2"
  }
 },
 "nbformat": 4,
 "nbformat_minor": 2
}
