{
 "cells": [
  {
   "cell_type": "markdown",
   "metadata": {},
   "source": [
    "# Controlar un servo motor"
   ]
  },
  {
   "cell_type": "markdown",
   "metadata": {},
   "source": [
    "Els servo motors són motors que s'utilitzen per a fer girs de menys d'una volta, no són motors de girs continus. A la figura inferior podem veure un motor servo, podem veure que té 3 cables. El cable vermell s'ha de connectar a l'alimentació (5 V), el marró és la conexió a terra (Gnd) i el taronja s'ha de connectar al pin que controlarà quant ha de girar el motor.\n",
    "\n",
    "<img src=\"img/servo1.jpg\" width=\"50%\">\n",
    "\n",
    "Com ja sabeu, la Raspberry Pi no conté sortides analògiques, només digitals. Per fer funcionar el servo haurem de simular la sortida analògica fent servir la tècnica coneguda com PWM (pulse-width modulation) que ja hem provat abans quan vam controlar la [brillantor d'un LED](https://niobio.github.io/raspi/led/brillantor_led.md). En aquest cas començarem per provar amb un programa molt semblant al que vam fer servir pel LED, podem veure la connexió del motor a la figura de sota\n",
    "\n",
    "<img src=\"img/servo_connect_0_bb.png\" width=\"50%\">\n",
    "\n",
    "El codi corresponent es pot veure a continuació."
   ]
  },
  {
   "cell_type": "code",
   "execution_count": null,
   "metadata": {
    "collapsed": true
   },
   "outputs": [],
   "source": [
    "import RPi.GPIO as GPIO\n",
    "import time\n",
    "\n",
    "motor_pin = 12\n",
    "\n",
    "GPIO.setmode(GPIO.BOARD)\n",
    "GPIO.setup(motor_pin,GPIO.OUT)\n",
    "\n",
    "pwm = GPIO.PWM(motor_pin,100)\n",
    "pwm.start(5)\n",
    "\n",
    "try:\n",
    "    while True:\n",
    "        duty = int(input(\"Entrar gir (0 a 20): \"))\n",
    "        pwm.ChangeDutyCycle(duty)\n",
    "        \n",
    "finally:\n",
    "    print(\"Cleaning up\")\n",
    "    GPIO.cleanup()"
   ]
  },
  {
   "cell_type": "markdown",
   "metadata": {},
   "source": [
    "Els motors servo s'utilitzen en vehicles de control remot o robots. Molts servos no son continus, es a dir, no poden rotar tota una volta sinó que ho fan fins un angle màxim de 180 graus. La posició del servo està fixat per la longitud del pols. El motor servo espera rebre un pols al menys cada 20 mil·lisegons. Si el pols està a `HIGH` per 1 ms el motor es posarà a un angle de zero graus, si és de 1,5 ms l'angle serà de 90 graus (posició central) i, si és de 2 ms, es posarà a 180 graus (veure figura inferior).\n",
    "\n",
    "<img src=\"img/servo3.png\" width=\"80%\">\n",
    "\n",
    "En el codi es pot veure que la funció GPIO.PWM crea en el pin `motor_pin`, corresponent al pin 12, que fixa la freqüencia del pols en 100 Hz, es a dir, que emet un pols cada 10 ms. Per a que el motor giri 180 graus ha de tenir un pols d'amplada 2 ms, això vol dir un 20% del període. Per això fem que el valor de l'angle es pugui variar posant valors entre 0 i 20 que correspondrà a valors entre 0 i 180 graus."
   ]
  },
  {
   "cell_type": "markdown",
   "metadata": {},
   "source": [
    "També podem connectar el servo a una font d'alimentació externa tal com podem veure a la figura següent.\n",
    "\n",
    "<img src=\"img/servo_connect_bb.png\" width=\"80%\">\n",
    "\n",
    "També podem utilitzar una interfície gràfica per a controlar el gir del motor. Python porta una biblioteca gràfica, Tkinter, que permet crear finestres o objectes gràfics. Utilitzarem aquesta biblioteca per a crear un control lliscant per a variar l'angle de gir del motor. A sota podem veure l'aspecte del control:\n",
    "\n",
    "<img src=\"img/slider.png\" width=\"30%\">\n",
    "\n",
    "A diferència del codi anterior, on el gir el controlàvem amb valor des de 0 fins a 20, en aquest codi el valor a variar és directament l'angle, prenent valors entre 0 i 180 graus. Dintre del codi es fa la transformació per a que el valor de l'angle es converteixi en els valor del cicle de treball (de 0 a 20 aprox). Podem fer proves variant els valors lleugerament per a que els angles s'ajustin als valors desitjats."
   ]
  },
  {
   "cell_type": "code",
   "execution_count": null,
   "metadata": {
    "collapsed": true
   },
   "outputs": [],
   "source": [
    "from tkinter import *\n",
    "import RPi.GPIO as GPIO\n",
    "\n",
    "GPIO.setmode(GPIO.BCM)\n",
    "GPIO.setup(18, GPIO.OUT)\n",
    "pwm = GPIO.PWM(18, 100)\n",
    "pwm.start(5)\n",
    "\n",
    "class App:\n",
    "    def __init__(self, master):\n",
    "        frame = Frame(master)\n",
    "        frame.pack()\n",
    "        scale = Scale(frame, from_=0, to=180, orient=HORIZONTAL, command=self.update)\n",
    "        scale.grid(row=0)\n",
    "\n",
    "    def update(self, angle):\n",
    "        duty = float(angle) / 10.0 + 2.5\n",
    "        pwm.ChangeDutyCycle(duty)\n",
    "\n",
    "try:\n",
    "    root = Tk()\n",
    "    root.wm_title('Servo Control')\n",
    "    app = App(root)\n",
    "    root.geometry(\"200x50+0+0\")\n",
    "    root.mainloop()\n",
    "finally:\n",
    "    GPIO.cleanup()"
   ]
  }
 ],
 "metadata": {
  "kernelspec": {
   "display_name": "Python 3",
   "language": "python",
   "name": "python3"
  },
  "language_info": {
   "codemirror_mode": {
    "name": "ipython",
    "version": 3
   },
   "file_extension": ".py",
   "mimetype": "text/x-python",
   "name": "python",
   "nbconvert_exporter": "python",
   "pygments_lexer": "ipython3",
   "version": "3.5.2"
  }
 },
 "nbformat": 4,
 "nbformat_minor": 2
}
