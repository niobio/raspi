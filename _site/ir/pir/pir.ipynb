{
 "cells": [
  {
   "cell_type": "markdown",
   "metadata": {},
   "source": [
    "# Detecció de moviments amb infrarroigs\n",
    "\n",
    "\n",
    "El sensor que es veu a la imatge inferior és un HC-SR501, es tracta d'un sensor infrarroig passiu (PIR), i serveix per a detectar moviments. Resulta habitual trobarlos als lavabos públics per encendre la llum quan detecta la presencia de persones.\n",
    "\n",
    "<img src=\"img/PIR_1.jpeg\" style=\"centered\" width=\"40%\">\n",
    "\n",
    "<img src=\"img/PIR_2.jpg\" style=\"centered\" width=\"70%\">\n",
    "\n",
    "<img src=\"img/PIR_3.jpg\" style=\"centered\" width=\"70%\">\n",
    "\n",
    "Si vols saber més de com funcionen els PIR pots consultar <a href=\"https://learn.adafruit.com/pir-passive-infrared-proximity-motion-sensor/how-pirs-work\" target=\"_blank\">aquesta pàgina</a>.\n",
    "\n",
    "A continuació tenim un exemple de codi que permet detectar el moviment:"
   ]
  },
  {
   "cell_type": "code",
   "execution_count": null,
   "metadata": {
    "collapsed": true
   },
   "outputs": [],
   "source": [
    "import RPi.GPIO as GPIO\n",
    "import time\n",
    "\n",
    "GPIO.setmode(GPIO.BOARD)\n",
    "GPIO.setup(12, GPIO.IN)\n",
    "\n",
    "try:\n",
    "    while True:\n",
    "        input_state = GPIO.input(12)\n",
    "        if input_state == True:\n",
    "            print('Moviment detectat')\n",
    "            time.sleep(1)\n",
    "            \n",
    "except KeyboardInterrupt:\n",
    "    print(\"Ctrl + C, Quit\")\n",
    "    \n",
    "finally:\n",
    "    GPIO.cleanup()"
   ]
  },
  {
   "cell_type": "markdown",
   "metadata": {},
   "source": [
    "Pots intentar millorar el codi fent servir <a href=\"https://niobio.github.io/raspi/interrupts/interrupts.html\" target=\"_blank\">interrupcions</a>."
   ]
  }
 ],
 "metadata": {
  "kernelspec": {
   "display_name": "Python 3",
   "language": "python",
   "name": "python3"
  },
  "language_info": {
   "codemirror_mode": {
    "name": "ipython",
    "version": 3
   },
   "file_extension": ".py",
   "mimetype": "text/x-python",
   "name": "python",
   "nbconvert_exporter": "python",
   "pygments_lexer": "ipython3",
   "version": "3.5.2"
  }
 },
 "nbformat": 4,
 "nbformat_minor": 2
}
