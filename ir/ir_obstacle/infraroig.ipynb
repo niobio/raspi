{
 "cells": [
  {
   "cell_type": "markdown",
   "metadata": {},
   "source": [
    "# Detectar obstacles amb sensors infraroigs\n",
    "\n",
    "El mòdul KY-032 que es veu a sota ha estat dissenyat per detectar obstacles. Està compost per un emissor de raigs infraroigs i un receptor que rep el rebot dels raigs sobre un obstacle que es trobi davant d'ell. Si el sensor no rep cap senyal vol dir que no hi ha obstacle i els raigs emessos es perden però, quan rep senyal vol dir que hi ha un obstacle davant d'ell. La distància de detecció es pot ajustar amb els potenciómetres que hi ha a la placa del sensor.\n",
    "\n",
    "<img src=\"img/ky032.jpg\" width=\"50%\">\n",
    "\n",
    "Aquest sensor porta 4 pins, un per a Vcc que es pot alimentar amb 3,3 V o 5 V, el de terra (GND) i el anomenat com OUT que correspon a la sortida cap a la Raspberry Pi i que dona la lectura. Hi a un altre pin amb el rètol EN que vol dir \"Enable\" i que es pot fer servir per activar o desactivar el sensor. El sensor queda sempre activat si s'utilitza el pont que curtcircuita els pins que hi ha sobre la placa del sensor que es veu a la figura en verd.\n",
    "\n",
    "\n",
    "El mòdul KY-033 funciona de manera semblant, peró per la ubicació dels sensor s'acostuma a fer-lo servir com a seguidor de línies en robots. El sensor es pot veure a sota i també es pot ajustar el seu valor llindar amb el potenciómetre que porta a la placa.\n",
    "\n",
    "<img src=\"img/ky033.jpg\" width=\"50%\">\n",
    "\n",
    "\n",
    "El codi per a detectar un obstacle es pot veure a sota. En aquest cas, quan es detecta l'únic que fa el programa és imprimir el text \"Obstacle detectat!\" a la consola però podem adaptar el codi per a que en aquest cas hi hagi un actuador que faci alguna cosa, com ser encendre un llum o que s'accioni un motor."
   ]
  },
  {
   "cell_type": "code",
   "execution_count": null,
   "metadata": {
    "collapsed": true
   },
   "outputs": [],
   "source": [
    "import RPi.GPIO as GPIO\n",
    " \n",
    "ObstaclePin = 11\n",
    " \n",
    "def setup():\n",
    "    GPIO.setmode(GPIO.BOARD) \n",
    "    GPIO.setup(ObstaclePin, GPIO.IN, pull_up_down=GPIO.PUD_UP)\n",
    "    \n",
    "def loop():\n",
    "    while True:\n",
    "        if (0 == GPIO.input(ObstaclePin)): \n",
    "            print(\"Obstacle detectat! \\n\")\n",
    "            \n",
    "def destroy():\n",
    "    GPIO.cleanup() # Neteja els pins\n",
    "    \n",
    "setup()\n",
    "try:\n",
    "    loop()\n",
    "except KeyboardInterrupt: # Si es pitja Ctrl + C es crida la funció destroy\n",
    "    destroy()"
   ]
  }
 ],
 "metadata": {
  "kernelspec": {
   "display_name": "Python 3",
   "language": "python",
   "name": "python3"
  },
  "language_info": {
   "codemirror_mode": {
    "name": "ipython",
    "version": 3
   },
   "file_extension": ".py",
   "mimetype": "text/x-python",
   "name": "python",
   "nbconvert_exporter": "python",
   "pygments_lexer": "ipython3",
   "version": "3.5.2"
  }
 },
 "nbformat": 4,
 "nbformat_minor": 2
}
