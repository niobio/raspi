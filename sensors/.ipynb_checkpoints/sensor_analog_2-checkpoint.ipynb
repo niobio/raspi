{
 "cells": [
  {
   "cell_type": "markdown",
   "metadata": {},
   "source": [
    "# Sensors analògics II: el conversor A/D MCP3008\n",
    "\n",
    "Com ja hem dit,la Raspberry Pi no té entrades analògiques, per tant, per a llegir sensors que entreguen senyals analògics hem de recòrrer a un conversor analògic-digital (ADC). El conversor més senzill es pot construir amb un capacitor. \n",
    "\n",
    "Hi ha circuits integrats específicament dissenyats per a fer de conversors A/D. En aquest cas estudiarem l'ús del xip MCP3008. \n",
    "\n",
    "<img src=\"img/mcp3008_1.jpg\" width=\"40%\">\n",
    "\n",
    "<img src=\"img/mcp3008_2.gif\" width=\"40%\">\n",
    "\n",
    "---\n",
    "> **IMPORTANTE**: Recordeu que l'orientació del xip és importante, per a comptar les potes heu de posar el mig cercle a la part superior com es pot veure a la figura.\n",
    "\n",
    "---\n",
    "\n",
    "\n",
    "El cablejat del MCP3008 a la Raspberry Pi és como se indica a continuació:\n",
    "* MCP3008 VDD a Raspberry Pi 3.3V\n",
    "* MCP3008 VREF a Raspberry Pi 3.3V\n",
    "* MCP3008 AGND a Raspberry Pi GND\n",
    "* MCP3008 DGND a Raspberry Pi GND\n",
    "* MCP3008 CLK a Raspberry Pi SCLK\n",
    "* MCP3008 DOUT a Raspberry Pi MISO\n",
    "* MCP3008 DIN a Raspberry Pi MOSI\n",
    "* MCP3008 CS/SHDN a Raspberry Pi CE0\n"
   ]
  },
  {
   "cell_type": "code",
   "execution_count": null,
   "metadata": {
    "collapsed": true
   },
   "outputs": [],
   "source": []
  }
 ],
 "metadata": {
  "kernelspec": {
   "display_name": "Python 3",
   "language": "python",
   "name": "python3"
  },
  "language_info": {
   "codemirror_mode": {
    "name": "ipython",
    "version": 3
   },
   "file_extension": ".py",
   "mimetype": "text/x-python",
   "name": "python",
   "nbconvert_exporter": "python",
   "pygments_lexer": "ipython3",
   "version": "3.5.3"
  }
 },
 "nbformat": 4,
 "nbformat_minor": 2
}
