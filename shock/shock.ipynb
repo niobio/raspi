{
 "cells": [
  {
   "cell_type": "markdown",
   "metadata": {},
   "source": [
    "# Sensors de vibracions\n",
    "\n",
    "A la figura podem veure un mòdul sensor de vibració KY-002.\n",
    "\n",
    "<img src=\"img/KY002.png\" width=\"40%\">\n",
    "\n",
    "Aquest sensor utilitza un interruptor de vibració Gaoxin SW-18010P i permet detectar impactes, cops i sacsejades o tremolades. Aquest interruptor consisteix en un terminal que forma una barra central i una molla que rodellal'eix central. Quan una força suficient es transfereix al interruptor i la molla es mou i els dos terminals s'ajunten temporalment. El posicionament de l'interruptor és important, es a dir, que l'interruptor ha d'estar tan a prop com sigui posible de l'àrea a monitoritzar. En cas contrari, la vibració detectada por ser amortiguada per altres components estructurals del projecte. En cas contrari, si l'interruptor resulta massa sensible per a la vostra aplicació proveu d'allunyar una mica el sensor de la zona a mesurar.\n",
    "\n",
    "<img src=\"img/Gaoxim-SW-18010P-Switch.png\" width=\"25%\">\n",
    "\n",
    "A la imatge de sota es pot apreciar l'esquema intern del mòdul KY-002.\n",
    "\n",
    "<img src=\"img/KY-002-Vibration-Shock-Sensor-Schematic.png\" width=\"60%\">\n",
    "\n",
    "Podem veure de l'esquema que quan es detecta una vibració, l'interruptor es tanca i el pin que estigui connectat a la sortida del mòdul, que estava detectant un valor `HIGH` passarà a estar en un estat `LOW` perquè passa a estar connectat a `GND`.\n",
    "\n",
    "Farem un codi de prova que faci encendre un LED quan el sensor detecti una vibració. A continuació tenim el llistat del programa:\n"
   ]
  },
  {
   "cell_type": "code",
   "execution_count": null,
   "metadata": {
    "collapsed": true
   },
   "outputs": [],
   "source": [
    "import RPi.GPIO as GPIO\n",
    "\n",
    "ShockPin = 11\n",
    "LedPin   = 10\n",
    "\n",
    "Led_status = 1\n",
    "\n",
    "def setup():\n",
    "    GPIO.setmode(GPIO.BOARD)       # Numbers GPIOs by physical location\n",
    "    GPIO.setup(LedPin, GPIO.OUT)   # Set LedPin's mode is output\n",
    "    GPIO.setup(ShockPin, GPIO.IN, pull_up_down=GPIO.PUD_UP)\n",
    "    GPIO.output(LedPin, GPIO.HIGH) # Set LedPin high(+3.3V) to off led\n",
    "\n",
    "def swLed(ev=None):\n",
    "    global Led_status\n",
    "    Led_status = not Led_status\n",
    "    GPIO.output(LedPin, Led_status)  # switch led status(on-->off; off-->on)\n",
    "        print(\"led: \" + (\"on\" if Led_status else \"off\"))\n",
    "\n",
    "def loop():\n",
    "    GPIO.add_event_detect(ShockPin, GPIO.FALLING, callback=swLed, bouncetime=200) # wait for falling\n",
    "    while True:\n",
    "        pass   # Don't do anything\n",
    "\n",
    "def destroy():\n",
    "    GPIO.output(LedPin, GPIO.LOW)      # led off\n",
    "    GPIO.cleanup()                     # Release resource\n",
    "\n",
    "if __name__ == '__main__':     # Program start from here\n",
    "    setup()\n",
    "    try:\n",
    "        loop()\n",
    "    except KeyboardInterrupt:  # When 'Ctrl+C' is pressed, the child program destroy() will be  executed.\n",
    "       destroy()"
   ]
  }
 ],
 "metadata": {
  "kernelspec": {
   "display_name": "Python 3",
   "language": "python",
   "name": "python3"
  },
  "language_info": {
   "codemirror_mode": {
    "name": "ipython",
    "version": 3
   },
   "file_extension": ".py",
   "mimetype": "text/x-python",
   "name": "python",
   "nbconvert_exporter": "python",
   "pygments_lexer": "ipython3",
   "version": "3.5.2"
  }
 },
 "nbformat": 4,
 "nbformat_minor": 2
}
